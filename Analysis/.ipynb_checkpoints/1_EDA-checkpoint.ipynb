{
 "cells": [
  {
   "cell_type": "markdown",
   "id": "05ffd125",
   "metadata": {},
   "source": [
    "# 1. Import Libraries"
   ]
  },
  {
   "cell_type": "code",
   "execution_count": 1,
   "id": "910900e2",
   "metadata": {},
   "outputs": [],
   "source": [
    "import pandas as pd\n",
    "import numpy as np\n",
    "import matplotlib.pyplot as plt\n",
    "import seaborn as sns\n",
    "\n",
    "\n",
    "%matplotlib inline\n",
    "\n",
    "import warnings\n",
    "warnings.filterwarnings('ignore')"
   ]
  },
  {
   "cell_type": "markdown",
   "id": "fdeb79b6",
   "metadata": {},
   "source": [
    "# 2. Load Data"
   ]
  },
  {
   "cell_type": "markdown",
   "id": "f9bdcdac",
   "metadata": {},
   "source": [
    "## Head"
   ]
  },
  {
   "cell_type": "code",
   "execution_count": 2,
   "id": "873d5dd7",
   "metadata": {},
   "outputs": [
    {
     "data": {
      "text/html": [
       "<div>\n",
       "<style scoped>\n",
       "    .dataframe tbody tr th:only-of-type {\n",
       "        vertical-align: middle;\n",
       "    }\n",
       "\n",
       "    .dataframe tbody tr th {\n",
       "        vertical-align: top;\n",
       "    }\n",
       "\n",
       "    .dataframe thead th {\n",
       "        text-align: right;\n",
       "    }\n",
       "</style>\n",
       "<table border=\"1\" class=\"dataframe\">\n",
       "  <thead>\n",
       "    <tr style=\"text-align: right;\">\n",
       "      <th></th>\n",
       "      <th>status</th>\n",
       "      <th>card_present_flag</th>\n",
       "      <th>bpay_biller_code</th>\n",
       "      <th>account</th>\n",
       "      <th>currency</th>\n",
       "      <th>long_lat</th>\n",
       "      <th>txn_description</th>\n",
       "      <th>merchant_id</th>\n",
       "      <th>merchant_code</th>\n",
       "      <th>first_name</th>\n",
       "      <th>...</th>\n",
       "      <th>age</th>\n",
       "      <th>merchant_suburb</th>\n",
       "      <th>merchant_state</th>\n",
       "      <th>extraction</th>\n",
       "      <th>amount</th>\n",
       "      <th>transaction_id</th>\n",
       "      <th>country</th>\n",
       "      <th>customer_id</th>\n",
       "      <th>merchant_long_lat</th>\n",
       "      <th>movement</th>\n",
       "    </tr>\n",
       "  </thead>\n",
       "  <tbody>\n",
       "    <tr>\n",
       "      <th>0</th>\n",
       "      <td>authorized</td>\n",
       "      <td>1.0</td>\n",
       "      <td>NaN</td>\n",
       "      <td>ACC-1598451071</td>\n",
       "      <td>AUD</td>\n",
       "      <td>153.41 -27.95</td>\n",
       "      <td>POS</td>\n",
       "      <td>81c48296-73be-44a7-befa-d053f48ce7cd</td>\n",
       "      <td>NaN</td>\n",
       "      <td>Diana</td>\n",
       "      <td>...</td>\n",
       "      <td>26</td>\n",
       "      <td>Ashmore</td>\n",
       "      <td>QLD</td>\n",
       "      <td>2018-08-01T01:01:15.000+0000</td>\n",
       "      <td>16.25</td>\n",
       "      <td>a623070bfead4541a6b0fff8a09e706c</td>\n",
       "      <td>Australia</td>\n",
       "      <td>CUS-2487424745</td>\n",
       "      <td>153.38 -27.99</td>\n",
       "      <td>debit</td>\n",
       "    </tr>\n",
       "    <tr>\n",
       "      <th>1</th>\n",
       "      <td>authorized</td>\n",
       "      <td>0.0</td>\n",
       "      <td>NaN</td>\n",
       "      <td>ACC-1598451071</td>\n",
       "      <td>AUD</td>\n",
       "      <td>153.41 -27.95</td>\n",
       "      <td>SALES-POS</td>\n",
       "      <td>830a451c-316e-4a6a-bf25-e37caedca49e</td>\n",
       "      <td>NaN</td>\n",
       "      <td>Diana</td>\n",
       "      <td>...</td>\n",
       "      <td>26</td>\n",
       "      <td>Sydney</td>\n",
       "      <td>NSW</td>\n",
       "      <td>2018-08-01T01:13:45.000+0000</td>\n",
       "      <td>14.19</td>\n",
       "      <td>13270a2a902145da9db4c951e04b51b9</td>\n",
       "      <td>Australia</td>\n",
       "      <td>CUS-2487424745</td>\n",
       "      <td>151.21 -33.87</td>\n",
       "      <td>debit</td>\n",
       "    </tr>\n",
       "    <tr>\n",
       "      <th>2</th>\n",
       "      <td>authorized</td>\n",
       "      <td>1.0</td>\n",
       "      <td>NaN</td>\n",
       "      <td>ACC-1222300524</td>\n",
       "      <td>AUD</td>\n",
       "      <td>151.23 -33.94</td>\n",
       "      <td>POS</td>\n",
       "      <td>835c231d-8cdf-4e96-859d-e9d571760cf0</td>\n",
       "      <td>NaN</td>\n",
       "      <td>Michael</td>\n",
       "      <td>...</td>\n",
       "      <td>38</td>\n",
       "      <td>Sydney</td>\n",
       "      <td>NSW</td>\n",
       "      <td>2018-08-01T01:26:15.000+0000</td>\n",
       "      <td>6.42</td>\n",
       "      <td>feb79e7ecd7048a5a36ec889d1a94270</td>\n",
       "      <td>Australia</td>\n",
       "      <td>CUS-2142601169</td>\n",
       "      <td>151.21 -33.87</td>\n",
       "      <td>debit</td>\n",
       "    </tr>\n",
       "    <tr>\n",
       "      <th>3</th>\n",
       "      <td>authorized</td>\n",
       "      <td>1.0</td>\n",
       "      <td>NaN</td>\n",
       "      <td>ACC-1037050564</td>\n",
       "      <td>AUD</td>\n",
       "      <td>153.10 -27.66</td>\n",
       "      <td>SALES-POS</td>\n",
       "      <td>48514682-c78a-4a88-b0da-2d6302e64673</td>\n",
       "      <td>NaN</td>\n",
       "      <td>Rhonda</td>\n",
       "      <td>...</td>\n",
       "      <td>40</td>\n",
       "      <td>Buderim</td>\n",
       "      <td>QLD</td>\n",
       "      <td>2018-08-01T01:38:45.000+0000</td>\n",
       "      <td>40.90</td>\n",
       "      <td>2698170da3704fd981b15e64a006079e</td>\n",
       "      <td>Australia</td>\n",
       "      <td>CUS-1614226872</td>\n",
       "      <td>153.05 -26.68</td>\n",
       "      <td>debit</td>\n",
       "    </tr>\n",
       "    <tr>\n",
       "      <th>4</th>\n",
       "      <td>authorized</td>\n",
       "      <td>1.0</td>\n",
       "      <td>NaN</td>\n",
       "      <td>ACC-1598451071</td>\n",
       "      <td>AUD</td>\n",
       "      <td>153.41 -27.95</td>\n",
       "      <td>SALES-POS</td>\n",
       "      <td>b4e02c10-0852-4273-b8fd-7b3395e32eb0</td>\n",
       "      <td>NaN</td>\n",
       "      <td>Diana</td>\n",
       "      <td>...</td>\n",
       "      <td>26</td>\n",
       "      <td>Mermaid Beach</td>\n",
       "      <td>QLD</td>\n",
       "      <td>2018-08-01T01:51:15.000+0000</td>\n",
       "      <td>3.25</td>\n",
       "      <td>329adf79878c4cf0aeb4188b4691c266</td>\n",
       "      <td>Australia</td>\n",
       "      <td>CUS-2487424745</td>\n",
       "      <td>153.44 -28.06</td>\n",
       "      <td>debit</td>\n",
       "    </tr>\n",
       "  </tbody>\n",
       "</table>\n",
       "<p>5 rows × 23 columns</p>\n",
       "</div>"
      ],
      "text/plain": [
       "       status  card_present_flag bpay_biller_code         account currency  \\\n",
       "0  authorized                1.0              NaN  ACC-1598451071      AUD   \n",
       "1  authorized                0.0              NaN  ACC-1598451071      AUD   \n",
       "2  authorized                1.0              NaN  ACC-1222300524      AUD   \n",
       "3  authorized                1.0              NaN  ACC-1037050564      AUD   \n",
       "4  authorized                1.0              NaN  ACC-1598451071      AUD   \n",
       "\n",
       "        long_lat txn_description                           merchant_id  \\\n",
       "0  153.41 -27.95             POS  81c48296-73be-44a7-befa-d053f48ce7cd   \n",
       "1  153.41 -27.95       SALES-POS  830a451c-316e-4a6a-bf25-e37caedca49e   \n",
       "2  151.23 -33.94             POS  835c231d-8cdf-4e96-859d-e9d571760cf0   \n",
       "3  153.10 -27.66       SALES-POS  48514682-c78a-4a88-b0da-2d6302e64673   \n",
       "4  153.41 -27.95       SALES-POS  b4e02c10-0852-4273-b8fd-7b3395e32eb0   \n",
       "\n",
       "   merchant_code first_name  ...  age merchant_suburb merchant_state  \\\n",
       "0            NaN      Diana  ...   26         Ashmore            QLD   \n",
       "1            NaN      Diana  ...   26          Sydney            NSW   \n",
       "2            NaN    Michael  ...   38          Sydney            NSW   \n",
       "3            NaN     Rhonda  ...   40         Buderim            QLD   \n",
       "4            NaN      Diana  ...   26   Mermaid Beach            QLD   \n",
       "\n",
       "                     extraction amount                    transaction_id  \\\n",
       "0  2018-08-01T01:01:15.000+0000  16.25  a623070bfead4541a6b0fff8a09e706c   \n",
       "1  2018-08-01T01:13:45.000+0000  14.19  13270a2a902145da9db4c951e04b51b9   \n",
       "2  2018-08-01T01:26:15.000+0000   6.42  feb79e7ecd7048a5a36ec889d1a94270   \n",
       "3  2018-08-01T01:38:45.000+0000  40.90  2698170da3704fd981b15e64a006079e   \n",
       "4  2018-08-01T01:51:15.000+0000   3.25  329adf79878c4cf0aeb4188b4691c266   \n",
       "\n",
       "     country     customer_id merchant_long_lat movement  \n",
       "0  Australia  CUS-2487424745     153.38 -27.99    debit  \n",
       "1  Australia  CUS-2487424745     151.21 -33.87    debit  \n",
       "2  Australia  CUS-2142601169     151.21 -33.87    debit  \n",
       "3  Australia  CUS-1614226872     153.05 -26.68    debit  \n",
       "4  Australia  CUS-2487424745     153.44 -28.06    debit  \n",
       "\n",
       "[5 rows x 23 columns]"
      ]
     },
     "execution_count": 2,
     "metadata": {},
     "output_type": "execute_result"
    }
   ],
   "source": [
    "transaction = pd.read_excel('../DATA/ANZ synthesised transaction dataset.xlsx')\n",
    "transaction.head()"
   ]
  },
  {
   "cell_type": "markdown",
   "id": "3d3e5107",
   "metadata": {},
   "source": [
    "## Tail"
   ]
  },
  {
   "cell_type": "code",
   "execution_count": 3,
   "id": "51af9994",
   "metadata": {},
   "outputs": [
    {
     "data": {
      "text/html": [
       "<div>\n",
       "<style scoped>\n",
       "    .dataframe tbody tr th:only-of-type {\n",
       "        vertical-align: middle;\n",
       "    }\n",
       "\n",
       "    .dataframe tbody tr th {\n",
       "        vertical-align: top;\n",
       "    }\n",
       "\n",
       "    .dataframe thead th {\n",
       "        text-align: right;\n",
       "    }\n",
       "</style>\n",
       "<table border=\"1\" class=\"dataframe\">\n",
       "  <thead>\n",
       "    <tr style=\"text-align: right;\">\n",
       "      <th></th>\n",
       "      <th>status</th>\n",
       "      <th>card_present_flag</th>\n",
       "      <th>bpay_biller_code</th>\n",
       "      <th>account</th>\n",
       "      <th>currency</th>\n",
       "      <th>long_lat</th>\n",
       "      <th>txn_description</th>\n",
       "      <th>merchant_id</th>\n",
       "      <th>merchant_code</th>\n",
       "      <th>first_name</th>\n",
       "      <th>...</th>\n",
       "      <th>age</th>\n",
       "      <th>merchant_suburb</th>\n",
       "      <th>merchant_state</th>\n",
       "      <th>extraction</th>\n",
       "      <th>amount</th>\n",
       "      <th>transaction_id</th>\n",
       "      <th>country</th>\n",
       "      <th>customer_id</th>\n",
       "      <th>merchant_long_lat</th>\n",
       "      <th>movement</th>\n",
       "    </tr>\n",
       "  </thead>\n",
       "  <tbody>\n",
       "    <tr>\n",
       "      <th>12038</th>\n",
       "      <td>authorized</td>\n",
       "      <td>0.0</td>\n",
       "      <td>NaN</td>\n",
       "      <td>ACC-3021093232</td>\n",
       "      <td>AUD</td>\n",
       "      <td>149.83 -29.47</td>\n",
       "      <td>POS</td>\n",
       "      <td>32aa73dc-b7c2-4161-b14d-6271b96ce792</td>\n",
       "      <td>NaN</td>\n",
       "      <td>Melissa</td>\n",
       "      <td>...</td>\n",
       "      <td>30</td>\n",
       "      <td>Ringwood</td>\n",
       "      <td>VIC</td>\n",
       "      <td>2018-10-31T23:09:06.000+0000</td>\n",
       "      <td>9.79</td>\n",
       "      <td>f2e3e695c2ee4c50a4c8747f852cbe2e</td>\n",
       "      <td>Australia</td>\n",
       "      <td>CUS-55310383</td>\n",
       "      <td>145.23 -37.81</td>\n",
       "      <td>debit</td>\n",
       "    </tr>\n",
       "    <tr>\n",
       "      <th>12039</th>\n",
       "      <td>authorized</td>\n",
       "      <td>1.0</td>\n",
       "      <td>NaN</td>\n",
       "      <td>ACC-1608363396</td>\n",
       "      <td>AUD</td>\n",
       "      <td>151.22 -33.87</td>\n",
       "      <td>SALES-POS</td>\n",
       "      <td>296a0500-8552-48ac-ac81-ec37065b568e</td>\n",
       "      <td>NaN</td>\n",
       "      <td>Robert</td>\n",
       "      <td>...</td>\n",
       "      <td>20</td>\n",
       "      <td>Casula</td>\n",
       "      <td>NSW</td>\n",
       "      <td>2018-10-31T23:21:46.000+0000</td>\n",
       "      <td>63.87</td>\n",
       "      <td>56e147e5485f4683b9076fcaaed76640</td>\n",
       "      <td>Australia</td>\n",
       "      <td>CUS-2688605418</td>\n",
       "      <td>150.88 -33.96</td>\n",
       "      <td>debit</td>\n",
       "    </tr>\n",
       "    <tr>\n",
       "      <th>12040</th>\n",
       "      <td>authorized</td>\n",
       "      <td>1.0</td>\n",
       "      <td>NaN</td>\n",
       "      <td>ACC-3827517394</td>\n",
       "      <td>AUD</td>\n",
       "      <td>151.12 -33.89</td>\n",
       "      <td>POS</td>\n",
       "      <td>e5975ab4-08f7-4725-a369-24cc0e35ed6e</td>\n",
       "      <td>NaN</td>\n",
       "      <td>Craig</td>\n",
       "      <td>...</td>\n",
       "      <td>28</td>\n",
       "      <td>Kings Park</td>\n",
       "      <td>NSW</td>\n",
       "      <td>2018-10-31T23:34:25.000+0000</td>\n",
       "      <td>43.96</td>\n",
       "      <td>2fdd4681827343f6af2e6519644a684a</td>\n",
       "      <td>Australia</td>\n",
       "      <td>CUS-2663907001</td>\n",
       "      <td>150.92 -33.74</td>\n",
       "      <td>debit</td>\n",
       "    </tr>\n",
       "    <tr>\n",
       "      <th>12041</th>\n",
       "      <td>authorized</td>\n",
       "      <td>1.0</td>\n",
       "      <td>NaN</td>\n",
       "      <td>ACC-2920611728</td>\n",
       "      <td>AUD</td>\n",
       "      <td>144.96 -37.76</td>\n",
       "      <td>SALES-POS</td>\n",
       "      <td>af49051a-591d-4b08-bd3c-27730b70ed37</td>\n",
       "      <td>NaN</td>\n",
       "      <td>Tyler</td>\n",
       "      <td>...</td>\n",
       "      <td>69</td>\n",
       "      <td>Oakleigh</td>\n",
       "      <td>VIC</td>\n",
       "      <td>2018-10-31T23:47:05.000+0000</td>\n",
       "      <td>30.77</td>\n",
       "      <td>74aa9cd7e4af4c6d9cd7dbd28e9aedc9</td>\n",
       "      <td>Australia</td>\n",
       "      <td>CUS-1388323263</td>\n",
       "      <td>145.09 -37.91</td>\n",
       "      <td>debit</td>\n",
       "    </tr>\n",
       "    <tr>\n",
       "      <th>12042</th>\n",
       "      <td>authorized</td>\n",
       "      <td>1.0</td>\n",
       "      <td>NaN</td>\n",
       "      <td>ACC-1443681913</td>\n",
       "      <td>AUD</td>\n",
       "      <td>150.92 -33.77</td>\n",
       "      <td>SALES-POS</td>\n",
       "      <td>f31f4b14-2040-40ec-a120-b141bb274cbd</td>\n",
       "      <td>NaN</td>\n",
       "      <td>Ryan</td>\n",
       "      <td>...</td>\n",
       "      <td>31</td>\n",
       "      <td>Mascot</td>\n",
       "      <td>NSW</td>\n",
       "      <td>2018-10-31T23:59:44.000+0000</td>\n",
       "      <td>22.36</td>\n",
       "      <td>6d5218e04e8040b9996850ce11a19426</td>\n",
       "      <td>Australia</td>\n",
       "      <td>CUS-3129499595</td>\n",
       "      <td>151.19 -33.93</td>\n",
       "      <td>debit</td>\n",
       "    </tr>\n",
       "  </tbody>\n",
       "</table>\n",
       "<p>5 rows × 23 columns</p>\n",
       "</div>"
      ],
      "text/plain": [
       "           status  card_present_flag bpay_biller_code         account  \\\n",
       "12038  authorized                0.0              NaN  ACC-3021093232   \n",
       "12039  authorized                1.0              NaN  ACC-1608363396   \n",
       "12040  authorized                1.0              NaN  ACC-3827517394   \n",
       "12041  authorized                1.0              NaN  ACC-2920611728   \n",
       "12042  authorized                1.0              NaN  ACC-1443681913   \n",
       "\n",
       "      currency       long_lat txn_description  \\\n",
       "12038      AUD  149.83 -29.47             POS   \n",
       "12039      AUD  151.22 -33.87       SALES-POS   \n",
       "12040      AUD  151.12 -33.89             POS   \n",
       "12041      AUD  144.96 -37.76       SALES-POS   \n",
       "12042      AUD  150.92 -33.77       SALES-POS   \n",
       "\n",
       "                                merchant_id  merchant_code first_name  ...  \\\n",
       "12038  32aa73dc-b7c2-4161-b14d-6271b96ce792            NaN    Melissa  ...   \n",
       "12039  296a0500-8552-48ac-ac81-ec37065b568e            NaN     Robert  ...   \n",
       "12040  e5975ab4-08f7-4725-a369-24cc0e35ed6e            NaN      Craig  ...   \n",
       "12041  af49051a-591d-4b08-bd3c-27730b70ed37            NaN      Tyler  ...   \n",
       "12042  f31f4b14-2040-40ec-a120-b141bb274cbd            NaN       Ryan  ...   \n",
       "\n",
       "       age merchant_suburb merchant_state                    extraction  \\\n",
       "12038   30        Ringwood            VIC  2018-10-31T23:09:06.000+0000   \n",
       "12039   20          Casula            NSW  2018-10-31T23:21:46.000+0000   \n",
       "12040   28      Kings Park            NSW  2018-10-31T23:34:25.000+0000   \n",
       "12041   69        Oakleigh            VIC  2018-10-31T23:47:05.000+0000   \n",
       "12042   31          Mascot            NSW  2018-10-31T23:59:44.000+0000   \n",
       "\n",
       "      amount                    transaction_id    country     customer_id  \\\n",
       "12038   9.79  f2e3e695c2ee4c50a4c8747f852cbe2e  Australia    CUS-55310383   \n",
       "12039  63.87  56e147e5485f4683b9076fcaaed76640  Australia  CUS-2688605418   \n",
       "12040  43.96  2fdd4681827343f6af2e6519644a684a  Australia  CUS-2663907001   \n",
       "12041  30.77  74aa9cd7e4af4c6d9cd7dbd28e9aedc9  Australia  CUS-1388323263   \n",
       "12042  22.36  6d5218e04e8040b9996850ce11a19426  Australia  CUS-3129499595   \n",
       "\n",
       "      merchant_long_lat movement  \n",
       "12038     145.23 -37.81    debit  \n",
       "12039     150.88 -33.96    debit  \n",
       "12040     150.92 -33.74    debit  \n",
       "12041     145.09 -37.91    debit  \n",
       "12042     151.19 -33.93    debit  \n",
       "\n",
       "[5 rows x 23 columns]"
      ]
     },
     "execution_count": 3,
     "metadata": {},
     "output_type": "execute_result"
    }
   ],
   "source": [
    "transaction.tail()"
   ]
  },
  {
   "cell_type": "markdown",
   "id": "28be909c",
   "metadata": {},
   "source": [
    "## Setting Index"
   ]
  },
  {
   "cell_type": "code",
   "execution_count": 4,
   "id": "e2f8bef7",
   "metadata": {},
   "outputs": [],
   "source": [
    "transaction.set_index('date', inplace = True)"
   ]
  },
  {
   "cell_type": "markdown",
   "id": "b38b5679",
   "metadata": {},
   "source": [
    "## Shape"
   ]
  },
  {
   "cell_type": "code",
   "execution_count": 5,
   "id": "3120129e",
   "metadata": {},
   "outputs": [
    {
     "data": {
      "text/plain": [
       "(12043, 22)"
      ]
     },
     "execution_count": 5,
     "metadata": {},
     "output_type": "execute_result"
    }
   ],
   "source": [
    "transaction.shape"
   ]
  },
  {
   "cell_type": "markdown",
   "id": "acfd636e",
   "metadata": {},
   "source": [
    "## Info"
   ]
  },
  {
   "cell_type": "code",
   "execution_count": 6,
   "id": "1246e988",
   "metadata": {},
   "outputs": [
    {
     "name": "stdout",
     "output_type": "stream",
     "text": [
      "<class 'pandas.core.frame.DataFrame'>\n",
      "DatetimeIndex: 12043 entries, 2018-08-01 to 2018-10-31\n",
      "Data columns (total 22 columns):\n",
      " #   Column             Non-Null Count  Dtype  \n",
      "---  ------             --------------  -----  \n",
      " 0   status             12043 non-null  object \n",
      " 1   card_present_flag  7717 non-null   float64\n",
      " 2   bpay_biller_code   885 non-null    object \n",
      " 3   account            12043 non-null  object \n",
      " 4   currency           12043 non-null  object \n",
      " 5   long_lat           12043 non-null  object \n",
      " 6   txn_description    12043 non-null  object \n",
      " 7   merchant_id        7717 non-null   object \n",
      " 8   merchant_code      883 non-null    float64\n",
      " 9   first_name         12043 non-null  object \n",
      " 10  balance            12043 non-null  float64\n",
      " 11  gender             12043 non-null  object \n",
      " 12  age                12043 non-null  int64  \n",
      " 13  merchant_suburb    7717 non-null   object \n",
      " 14  merchant_state     7717 non-null   object \n",
      " 15  extraction         12043 non-null  object \n",
      " 16  amount             12043 non-null  float64\n",
      " 17  transaction_id     12043 non-null  object \n",
      " 18  country            12043 non-null  object \n",
      " 19  customer_id        12043 non-null  object \n",
      " 20  merchant_long_lat  7717 non-null   object \n",
      " 21  movement           12043 non-null  object \n",
      "dtypes: float64(4), int64(1), object(17)\n",
      "memory usage: 2.1+ MB\n"
     ]
    }
   ],
   "source": [
    "transaction.info()"
   ]
  },
  {
   "cell_type": "markdown",
   "id": "1aa00ed0",
   "metadata": {},
   "source": [
    "## Check Types of Data"
   ]
  },
  {
   "cell_type": "code",
   "execution_count": 7,
   "id": "e1728b2e",
   "metadata": {},
   "outputs": [
    {
     "data": {
      "text/plain": [
       "status                object\n",
       "card_present_flag    float64\n",
       "bpay_biller_code      object\n",
       "account               object\n",
       "currency              object\n",
       "long_lat              object\n",
       "txn_description       object\n",
       "merchant_id           object\n",
       "merchant_code        float64\n",
       "first_name            object\n",
       "balance              float64\n",
       "gender                object\n",
       "age                    int64\n",
       "merchant_suburb       object\n",
       "merchant_state        object\n",
       "extraction            object\n",
       "amount               float64\n",
       "transaction_id        object\n",
       "country               object\n",
       "customer_id           object\n",
       "merchant_long_lat     object\n",
       "movement              object\n",
       "dtype: object"
      ]
     },
     "execution_count": 7,
     "metadata": {},
     "output_type": "execute_result"
    }
   ],
   "source": [
    "transaction.dtypes"
   ]
  },
  {
   "cell_type": "markdown",
   "id": "55e7c52a",
   "metadata": {},
   "source": [
    "# 3. Data Cleaning"
   ]
  },
  {
   "cell_type": "markdown",
   "id": "4401afe2",
   "metadata": {},
   "source": [
    "## Check Null Values"
   ]
  },
  {
   "cell_type": "code",
   "execution_count": 8,
   "id": "d95ba3db",
   "metadata": {},
   "outputs": [
    {
     "data": {
      "text/plain": [
       "status                   0\n",
       "card_present_flag     4326\n",
       "bpay_biller_code     11158\n",
       "account                  0\n",
       "currency                 0\n",
       "long_lat                 0\n",
       "txn_description          0\n",
       "merchant_id           4326\n",
       "merchant_code        11160\n",
       "first_name               0\n",
       "balance                  0\n",
       "gender                   0\n",
       "age                      0\n",
       "merchant_suburb       4326\n",
       "merchant_state        4326\n",
       "extraction               0\n",
       "amount                   0\n",
       "transaction_id           0\n",
       "country                  0\n",
       "customer_id              0\n",
       "merchant_long_lat     4326\n",
       "movement                 0\n",
       "dtype: int64"
      ]
     },
     "execution_count": 8,
     "metadata": {},
     "output_type": "execute_result"
    }
   ],
   "source": [
    "transaction.isnull().sum()"
   ]
  },
  {
   "cell_type": "markdown",
   "id": "062fa8bd",
   "metadata": {},
   "source": [
    "## Card Present Flag"
   ]
  },
  {
   "cell_type": "code",
   "execution_count": 9,
   "id": "294d914e",
   "metadata": {},
   "outputs": [
    {
     "data": {
      "text/plain": [
       "1.0    0.802644\n",
       "0.0    0.197356\n",
       "Name: card_present_flag, dtype: float64"
      ]
     },
     "execution_count": 9,
     "metadata": {},
     "output_type": "execute_result"
    }
   ],
   "source": [
    "transaction['card_present_flag'].value_counts(normalize = True)"
   ]
  },
  {
   "cell_type": "markdown",
   "id": "1a743c95",
   "metadata": {},
   "source": [
    "As 80% of cards are flagged. I will fill replace the null value with `1`"
   ]
  },
  {
   "cell_type": "code",
   "execution_count": 10,
   "id": "9db9ac4d",
   "metadata": {},
   "outputs": [],
   "source": [
    "transaction['card_present_flag'] = transaction['card_present_flag'].fillna(1)"
   ]
  },
  {
   "cell_type": "markdown",
   "id": "2f2be9ef",
   "metadata": {},
   "source": [
    "## Bpay Biller Code"
   ]
  },
  {
   "cell_type": "code",
   "execution_count": 11,
   "id": "14efb817",
   "metadata": {},
   "outputs": [
    {
     "data": {
      "text/html": [
       "<div>\n",
       "<style scoped>\n",
       "    .dataframe tbody tr th:only-of-type {\n",
       "        vertical-align: middle;\n",
       "    }\n",
       "\n",
       "    .dataframe tbody tr th {\n",
       "        vertical-align: top;\n",
       "    }\n",
       "\n",
       "    .dataframe thead th {\n",
       "        text-align: right;\n",
       "    }\n",
       "</style>\n",
       "<table border=\"1\" class=\"dataframe\">\n",
       "  <thead>\n",
       "    <tr style=\"text-align: right;\">\n",
       "      <th></th>\n",
       "      <th>status</th>\n",
       "      <th>card_present_flag</th>\n",
       "      <th>bpay_biller_code</th>\n",
       "      <th>account</th>\n",
       "      <th>currency</th>\n",
       "      <th>long_lat</th>\n",
       "      <th>txn_description</th>\n",
       "      <th>merchant_id</th>\n",
       "      <th>merchant_code</th>\n",
       "      <th>first_name</th>\n",
       "      <th>...</th>\n",
       "      <th>age</th>\n",
       "      <th>merchant_suburb</th>\n",
       "      <th>merchant_state</th>\n",
       "      <th>extraction</th>\n",
       "      <th>amount</th>\n",
       "      <th>transaction_id</th>\n",
       "      <th>country</th>\n",
       "      <th>customer_id</th>\n",
       "      <th>merchant_long_lat</th>\n",
       "      <th>movement</th>\n",
       "    </tr>\n",
       "    <tr>\n",
       "      <th>date</th>\n",
       "      <th></th>\n",
       "      <th></th>\n",
       "      <th></th>\n",
       "      <th></th>\n",
       "      <th></th>\n",
       "      <th></th>\n",
       "      <th></th>\n",
       "      <th></th>\n",
       "      <th></th>\n",
       "      <th></th>\n",
       "      <th></th>\n",
       "      <th></th>\n",
       "      <th></th>\n",
       "      <th></th>\n",
       "      <th></th>\n",
       "      <th></th>\n",
       "      <th></th>\n",
       "      <th></th>\n",
       "      <th></th>\n",
       "      <th></th>\n",
       "      <th></th>\n",
       "    </tr>\n",
       "  </thead>\n",
       "  <tbody>\n",
       "    <tr>\n",
       "      <th>2018-08-25</th>\n",
       "      <td>authorized</td>\n",
       "      <td>1.0</td>\n",
       "      <td>THE DISCOUNT CHEMIST GROUP</td>\n",
       "      <td>ACC-2681137560</td>\n",
       "      <td>AUD</td>\n",
       "      <td>151.11 -33.99</td>\n",
       "      <td>POS</td>\n",
       "      <td>786e2dcb-aa00-4a01-a8d7-7cff67fd69e1</td>\n",
       "      <td>NaN</td>\n",
       "      <td>Nathaniel</td>\n",
       "      <td>...</td>\n",
       "      <td>31</td>\n",
       "      <td>Bondi Junction</td>\n",
       "      <td>NSW</td>\n",
       "      <td>2018-08-25T09:17:31.000+0000</td>\n",
       "      <td>20.69</td>\n",
       "      <td>156aa5c521d649099523070b2a40e2e9</td>\n",
       "      <td>Australia</td>\n",
       "      <td>CUS-2083971310</td>\n",
       "      <td>151.25 -33.89</td>\n",
       "      <td>debit</td>\n",
       "    </tr>\n",
       "    <tr>\n",
       "      <th>2018-09-04</th>\n",
       "      <td>authorized</td>\n",
       "      <td>1.0</td>\n",
       "      <td>LAND WATER &amp; PLANNING East Melbourne</td>\n",
       "      <td>ACC-80388494</td>\n",
       "      <td>AUD</td>\n",
       "      <td>144.97 -37.42</td>\n",
       "      <td>SALES-POS</td>\n",
       "      <td>bfac8fdf-39fb-4300-9267-0a7097d3f365</td>\n",
       "      <td>NaN</td>\n",
       "      <td>Dustin</td>\n",
       "      <td>...</td>\n",
       "      <td>28</td>\n",
       "      <td>East Melbourne</td>\n",
       "      <td>VIC</td>\n",
       "      <td>2018-09-04T09:42:51.000+0000</td>\n",
       "      <td>24.01</td>\n",
       "      <td>77dfd0ea900745819a25200f1194185b</td>\n",
       "      <td>Australia</td>\n",
       "      <td>CUS-1140341822</td>\n",
       "      <td>144.97 -37.81</td>\n",
       "      <td>debit</td>\n",
       "    </tr>\n",
       "  </tbody>\n",
       "</table>\n",
       "<p>2 rows × 22 columns</p>\n",
       "</div>"
      ],
      "text/plain": [
       "                status  card_present_flag  \\\n",
       "date                                        \n",
       "2018-08-25  authorized                1.0   \n",
       "2018-09-04  authorized                1.0   \n",
       "\n",
       "                                 bpay_biller_code         account currency  \\\n",
       "date                                                                         \n",
       "2018-08-25             THE DISCOUNT CHEMIST GROUP  ACC-2681137560      AUD   \n",
       "2018-09-04   LAND WATER & PLANNING East Melbourne    ACC-80388494      AUD   \n",
       "\n",
       "                 long_lat txn_description  \\\n",
       "date                                        \n",
       "2018-08-25  151.11 -33.99             POS   \n",
       "2018-09-04  144.97 -37.42       SALES-POS   \n",
       "\n",
       "                                     merchant_id  merchant_code first_name  \\\n",
       "date                                                                         \n",
       "2018-08-25  786e2dcb-aa00-4a01-a8d7-7cff67fd69e1            NaN  Nathaniel   \n",
       "2018-09-04  bfac8fdf-39fb-4300-9267-0a7097d3f365            NaN     Dustin   \n",
       "\n",
       "            ...  age merchant_suburb  merchant_state  \\\n",
       "date        ...                                        \n",
       "2018-08-25  ...   31  Bondi Junction             NSW   \n",
       "2018-09-04  ...   28  East Melbourne             VIC   \n",
       "\n",
       "                              extraction amount  \\\n",
       "date                                              \n",
       "2018-08-25  2018-08-25T09:17:31.000+0000  20.69   \n",
       "2018-09-04  2018-09-04T09:42:51.000+0000  24.01   \n",
       "\n",
       "                              transaction_id    country     customer_id  \\\n",
       "date                                                                      \n",
       "2018-08-25  156aa5c521d649099523070b2a40e2e9  Australia  CUS-2083971310   \n",
       "2018-09-04  77dfd0ea900745819a25200f1194185b  Australia  CUS-1140341822   \n",
       "\n",
       "           merchant_long_lat movement  \n",
       "date                                   \n",
       "2018-08-25     151.25 -33.89    debit  \n",
       "2018-09-04     144.97 -37.81    debit  \n",
       "\n",
       "[2 rows x 22 columns]"
      ]
     },
     "execution_count": 11,
     "metadata": {},
     "output_type": "execute_result"
    }
   ],
   "source": [
    "transaction[~transaction['bpay_biller_code'].isnull() & transaction['bpay_biller_code'] != 0]"
   ]
  },
  {
   "cell_type": "markdown",
   "id": "a865b93b",
   "metadata": {},
   "source": [
    "As `0` covers the majority of row, I will replace the null value with `0`"
   ]
  },
  {
   "cell_type": "code",
   "execution_count": 12,
   "id": "a8f72938",
   "metadata": {},
   "outputs": [],
   "source": [
    "transaction['bpay_biller_code'] = transaction['bpay_biller_code'].fillna(0)"
   ]
  },
  {
   "cell_type": "markdown",
   "id": "a98d0ce2",
   "metadata": {},
   "source": [
    "## Merchant State"
   ]
  },
  {
   "cell_type": "code",
   "execution_count": 13,
   "id": "499d6f16",
   "metadata": {},
   "outputs": [
    {
     "data": {
      "text/plain": [
       "NSW    0.281068\n",
       "VIC    0.276144\n",
       "QLD    0.201633\n",
       "WA     0.142542\n",
       "SA     0.053777\n",
       "NT     0.026565\n",
       "ACT    0.009460\n",
       "TAS    0.008812\n",
       "Name: merchant_state, dtype: float64"
      ]
     },
     "execution_count": 13,
     "metadata": {},
     "output_type": "execute_result"
    }
   ],
   "source": [
    "transaction['merchant_state'].value_counts(normalize = True)"
   ]
  },
  {
   "cell_type": "markdown",
   "id": "1440b6bd",
   "metadata": {},
   "source": [
    "As `NSW` covers the majority of the dataset population, I will replace the null values with `NSW`"
   ]
  },
  {
   "cell_type": "code",
   "execution_count": 14,
   "id": "e7b416ad",
   "metadata": {},
   "outputs": [
    {
     "data": {
      "text/plain": [
       "0"
      ]
     },
     "execution_count": 14,
     "metadata": {},
     "output_type": "execute_result"
    }
   ],
   "source": [
    "transaction['merchant_state'] = transaction['merchant_state'].fillna(value = 'NSW')\n",
    "transaction['merchant_state'].isna().sum()"
   ]
  },
  {
   "cell_type": "markdown",
   "id": "b0f3d121",
   "metadata": {},
   "source": [
    "## Merchant Suburb"
   ]
  },
  {
   "cell_type": "code",
   "execution_count": 15,
   "id": "b29517ac",
   "metadata": {},
   "outputs": [
    {
     "data": {
      "text/plain": [
       "0"
      ]
     },
     "execution_count": 15,
     "metadata": {},
     "output_type": "execute_result"
    }
   ],
   "source": [
    "transaction['merchant_suburb'] = transaction['merchant_suburb'].fillna(value = 'Sydney')\n",
    "transaction['merchant_suburb'].isna().sum()"
   ]
  },
  {
   "cell_type": "markdown",
   "id": "d52c5a5d",
   "metadata": {},
   "source": [
    "## Merchant Longtitude and Langtitude"
   ]
  },
  {
   "cell_type": "code",
   "execution_count": 16,
   "id": "c18ce5f4",
   "metadata": {},
   "outputs": [
    {
     "data": {
      "text/plain": [
       "0"
      ]
     },
     "execution_count": 16,
     "metadata": {},
     "output_type": "execute_result"
    }
   ],
   "source": [
    "transaction['merchant_long_lat']  = transaction['merchant_long_lat'].fillna('151.21 -33.87')\n",
    "transaction['merchant_long_lat'].isnull().sum()"
   ]
  },
  {
   "cell_type": "markdown",
   "id": "b517b7d7",
   "metadata": {},
   "source": [
    "# Dropping columns that have no value to analysis"
   ]
  },
  {
   "cell_type": "code",
   "execution_count": 17,
   "id": "d7efa12a",
   "metadata": {},
   "outputs": [
    {
     "data": {
      "text/plain": [
       "Index(['status', 'card_present_flag', 'bpay_biller_code', 'account',\n",
       "       'currency', 'long_lat', 'txn_description', 'merchant_id',\n",
       "       'merchant_code', 'first_name', 'balance', 'gender', 'age',\n",
       "       'merchant_suburb', 'merchant_state', 'extraction', 'amount',\n",
       "       'transaction_id', 'country', 'customer_id', 'merchant_long_lat',\n",
       "       'movement'],\n",
       "      dtype='object')"
      ]
     },
     "execution_count": 17,
     "metadata": {},
     "output_type": "execute_result"
    }
   ],
   "source": [
    "transaction.columns"
   ]
  },
  {
   "cell_type": "code",
   "execution_count": 18,
   "id": "19f1d327",
   "metadata": {},
   "outputs": [],
   "source": [
    "drop_columns = [\n",
    "    'bpay_biller_code',\n",
    "    'merchant_id',\n",
    "    'merchant_code',\n",
    "]\n",
    "transaction.drop(columns = drop_columns, inplace = True)"
   ]
  },
  {
   "cell_type": "markdown",
   "id": "b5193a57",
   "metadata": {},
   "source": [
    "Check if the columns have dropped successfully"
   ]
  },
  {
   "cell_type": "code",
   "execution_count": 19,
   "id": "529392a7",
   "metadata": {},
   "outputs": [
    {
     "name": "stdout",
     "output_type": "stream",
     "text": [
      "Columns have been dropped\n"
     ]
    }
   ],
   "source": [
    "if 'merchant_code' not in transaction.columns:\n",
    "    print('Columns have been dropped')\n",
    "else:\n",
    "    print('Columns still exists')"
   ]
  },
  {
   "cell_type": "code",
   "execution_count": 20,
   "id": "fbfcadde",
   "metadata": {},
   "outputs": [
    {
     "name": "stdout",
     "output_type": "stream",
     "text": [
      "Feature does not exist\n"
     ]
    }
   ],
   "source": [
    "if 'merchant_code' in transaction:\n",
    "    print('Feature exist')\n",
    "else:\n",
    "    print('Feature does not exist')"
   ]
  },
  {
   "cell_type": "code",
   "execution_count": 21,
   "id": "1ca94577",
   "metadata": {},
   "outputs": [
    {
     "data": {
      "text/html": [
       "<div>\n",
       "<style scoped>\n",
       "    .dataframe tbody tr th:only-of-type {\n",
       "        vertical-align: middle;\n",
       "    }\n",
       "\n",
       "    .dataframe tbody tr th {\n",
       "        vertical-align: top;\n",
       "    }\n",
       "\n",
       "    .dataframe thead th {\n",
       "        text-align: right;\n",
       "    }\n",
       "</style>\n",
       "<table border=\"1\" class=\"dataframe\">\n",
       "  <thead>\n",
       "    <tr style=\"text-align: right;\">\n",
       "      <th></th>\n",
       "      <th>status</th>\n",
       "      <th>card_present_flag</th>\n",
       "      <th>account</th>\n",
       "      <th>currency</th>\n",
       "      <th>long_lat</th>\n",
       "      <th>txn_description</th>\n",
       "      <th>first_name</th>\n",
       "      <th>balance</th>\n",
       "      <th>gender</th>\n",
       "      <th>age</th>\n",
       "      <th>merchant_suburb</th>\n",
       "      <th>merchant_state</th>\n",
       "      <th>extraction</th>\n",
       "      <th>amount</th>\n",
       "      <th>transaction_id</th>\n",
       "      <th>country</th>\n",
       "      <th>customer_id</th>\n",
       "      <th>merchant_long_lat</th>\n",
       "      <th>movement</th>\n",
       "    </tr>\n",
       "    <tr>\n",
       "      <th>date</th>\n",
       "      <th></th>\n",
       "      <th></th>\n",
       "      <th></th>\n",
       "      <th></th>\n",
       "      <th></th>\n",
       "      <th></th>\n",
       "      <th></th>\n",
       "      <th></th>\n",
       "      <th></th>\n",
       "      <th></th>\n",
       "      <th></th>\n",
       "      <th></th>\n",
       "      <th></th>\n",
       "      <th></th>\n",
       "      <th></th>\n",
       "      <th></th>\n",
       "      <th></th>\n",
       "      <th></th>\n",
       "      <th></th>\n",
       "    </tr>\n",
       "  </thead>\n",
       "  <tbody>\n",
       "    <tr>\n",
       "      <th>2018-08-01</th>\n",
       "      <td>authorized</td>\n",
       "      <td>1.0</td>\n",
       "      <td>ACC-1598451071</td>\n",
       "      <td>AUD</td>\n",
       "      <td>153.41 -27.95</td>\n",
       "      <td>POS</td>\n",
       "      <td>Diana</td>\n",
       "      <td>35.39</td>\n",
       "      <td>F</td>\n",
       "      <td>26</td>\n",
       "      <td>Ashmore</td>\n",
       "      <td>QLD</td>\n",
       "      <td>2018-08-01T01:01:15.000+0000</td>\n",
       "      <td>16.25</td>\n",
       "      <td>a623070bfead4541a6b0fff8a09e706c</td>\n",
       "      <td>Australia</td>\n",
       "      <td>CUS-2487424745</td>\n",
       "      <td>153.38 -27.99</td>\n",
       "      <td>debit</td>\n",
       "    </tr>\n",
       "    <tr>\n",
       "      <th>2018-08-01</th>\n",
       "      <td>authorized</td>\n",
       "      <td>0.0</td>\n",
       "      <td>ACC-1598451071</td>\n",
       "      <td>AUD</td>\n",
       "      <td>153.41 -27.95</td>\n",
       "      <td>SALES-POS</td>\n",
       "      <td>Diana</td>\n",
       "      <td>21.20</td>\n",
       "      <td>F</td>\n",
       "      <td>26</td>\n",
       "      <td>Sydney</td>\n",
       "      <td>NSW</td>\n",
       "      <td>2018-08-01T01:13:45.000+0000</td>\n",
       "      <td>14.19</td>\n",
       "      <td>13270a2a902145da9db4c951e04b51b9</td>\n",
       "      <td>Australia</td>\n",
       "      <td>CUS-2487424745</td>\n",
       "      <td>151.21 -33.87</td>\n",
       "      <td>debit</td>\n",
       "    </tr>\n",
       "    <tr>\n",
       "      <th>2018-08-01</th>\n",
       "      <td>authorized</td>\n",
       "      <td>1.0</td>\n",
       "      <td>ACC-1222300524</td>\n",
       "      <td>AUD</td>\n",
       "      <td>151.23 -33.94</td>\n",
       "      <td>POS</td>\n",
       "      <td>Michael</td>\n",
       "      <td>5.71</td>\n",
       "      <td>M</td>\n",
       "      <td>38</td>\n",
       "      <td>Sydney</td>\n",
       "      <td>NSW</td>\n",
       "      <td>2018-08-01T01:26:15.000+0000</td>\n",
       "      <td>6.42</td>\n",
       "      <td>feb79e7ecd7048a5a36ec889d1a94270</td>\n",
       "      <td>Australia</td>\n",
       "      <td>CUS-2142601169</td>\n",
       "      <td>151.21 -33.87</td>\n",
       "      <td>debit</td>\n",
       "    </tr>\n",
       "    <tr>\n",
       "      <th>2018-08-01</th>\n",
       "      <td>authorized</td>\n",
       "      <td>1.0</td>\n",
       "      <td>ACC-1037050564</td>\n",
       "      <td>AUD</td>\n",
       "      <td>153.10 -27.66</td>\n",
       "      <td>SALES-POS</td>\n",
       "      <td>Rhonda</td>\n",
       "      <td>2117.22</td>\n",
       "      <td>F</td>\n",
       "      <td>40</td>\n",
       "      <td>Buderim</td>\n",
       "      <td>QLD</td>\n",
       "      <td>2018-08-01T01:38:45.000+0000</td>\n",
       "      <td>40.90</td>\n",
       "      <td>2698170da3704fd981b15e64a006079e</td>\n",
       "      <td>Australia</td>\n",
       "      <td>CUS-1614226872</td>\n",
       "      <td>153.05 -26.68</td>\n",
       "      <td>debit</td>\n",
       "    </tr>\n",
       "    <tr>\n",
       "      <th>2018-08-01</th>\n",
       "      <td>authorized</td>\n",
       "      <td>1.0</td>\n",
       "      <td>ACC-1598451071</td>\n",
       "      <td>AUD</td>\n",
       "      <td>153.41 -27.95</td>\n",
       "      <td>SALES-POS</td>\n",
       "      <td>Diana</td>\n",
       "      <td>17.95</td>\n",
       "      <td>F</td>\n",
       "      <td>26</td>\n",
       "      <td>Mermaid Beach</td>\n",
       "      <td>QLD</td>\n",
       "      <td>2018-08-01T01:51:15.000+0000</td>\n",
       "      <td>3.25</td>\n",
       "      <td>329adf79878c4cf0aeb4188b4691c266</td>\n",
       "      <td>Australia</td>\n",
       "      <td>CUS-2487424745</td>\n",
       "      <td>153.44 -28.06</td>\n",
       "      <td>debit</td>\n",
       "    </tr>\n",
       "  </tbody>\n",
       "</table>\n",
       "</div>"
      ],
      "text/plain": [
       "                status  card_present_flag         account currency  \\\n",
       "date                                                                 \n",
       "2018-08-01  authorized                1.0  ACC-1598451071      AUD   \n",
       "2018-08-01  authorized                0.0  ACC-1598451071      AUD   \n",
       "2018-08-01  authorized                1.0  ACC-1222300524      AUD   \n",
       "2018-08-01  authorized                1.0  ACC-1037050564      AUD   \n",
       "2018-08-01  authorized                1.0  ACC-1598451071      AUD   \n",
       "\n",
       "                 long_lat txn_description first_name  balance gender  age  \\\n",
       "date                                                                        \n",
       "2018-08-01  153.41 -27.95             POS      Diana    35.39      F   26   \n",
       "2018-08-01  153.41 -27.95       SALES-POS      Diana    21.20      F   26   \n",
       "2018-08-01  151.23 -33.94             POS    Michael     5.71      M   38   \n",
       "2018-08-01  153.10 -27.66       SALES-POS     Rhonda  2117.22      F   40   \n",
       "2018-08-01  153.41 -27.95       SALES-POS      Diana    17.95      F   26   \n",
       "\n",
       "           merchant_suburb merchant_state                    extraction  \\\n",
       "date                                                                      \n",
       "2018-08-01         Ashmore            QLD  2018-08-01T01:01:15.000+0000   \n",
       "2018-08-01          Sydney            NSW  2018-08-01T01:13:45.000+0000   \n",
       "2018-08-01          Sydney            NSW  2018-08-01T01:26:15.000+0000   \n",
       "2018-08-01         Buderim            QLD  2018-08-01T01:38:45.000+0000   \n",
       "2018-08-01   Mermaid Beach            QLD  2018-08-01T01:51:15.000+0000   \n",
       "\n",
       "            amount                    transaction_id    country  \\\n",
       "date                                                              \n",
       "2018-08-01   16.25  a623070bfead4541a6b0fff8a09e706c  Australia   \n",
       "2018-08-01   14.19  13270a2a902145da9db4c951e04b51b9  Australia   \n",
       "2018-08-01    6.42  feb79e7ecd7048a5a36ec889d1a94270  Australia   \n",
       "2018-08-01   40.90  2698170da3704fd981b15e64a006079e  Australia   \n",
       "2018-08-01    3.25  329adf79878c4cf0aeb4188b4691c266  Australia   \n",
       "\n",
       "               customer_id merchant_long_lat movement  \n",
       "date                                                   \n",
       "2018-08-01  CUS-2487424745     153.38 -27.99    debit  \n",
       "2018-08-01  CUS-2487424745     151.21 -33.87    debit  \n",
       "2018-08-01  CUS-2142601169     151.21 -33.87    debit  \n",
       "2018-08-01  CUS-1614226872     153.05 -26.68    debit  \n",
       "2018-08-01  CUS-2487424745     153.44 -28.06    debit  "
      ]
     },
     "execution_count": 21,
     "metadata": {},
     "output_type": "execute_result"
    }
   ],
   "source": [
    "transaction.head()"
   ]
  },
  {
   "cell_type": "markdown",
   "id": "2dc00e58",
   "metadata": {},
   "source": [
    "# 4. Check for duplicate"
   ]
  },
  {
   "cell_type": "code",
   "execution_count": 22,
   "id": "6f8fe60a",
   "metadata": {},
   "outputs": [
    {
     "data": {
      "text/plain": [
       "0"
      ]
     },
     "execution_count": 22,
     "metadata": {},
     "output_type": "execute_result"
    }
   ],
   "source": [
    "transaction.duplicated().sum()"
   ]
  },
  {
   "cell_type": "markdown",
   "id": "f769913e",
   "metadata": {},
   "source": [
    "Fortunately, there is no duplicate"
   ]
  },
  {
   "cell_type": "markdown",
   "id": "5329c0a3",
   "metadata": {},
   "source": [
    "# 5. Exploratory Data Analysis"
   ]
  },
  {
   "cell_type": "markdown",
   "id": "4b871350",
   "metadata": {},
   "source": [
    "## Transaction by movement"
   ]
  },
  {
   "cell_type": "markdown",
   "id": "5985af7c",
   "metadata": {},
   "source": [
    "Count values for transaction `movement`"
   ]
  },
  {
   "cell_type": "code",
   "execution_count": 23,
   "id": "233607a1",
   "metadata": {},
   "outputs": [
    {
     "data": {
      "text/plain": [
       "debit     11160\n",
       "credit      883\n",
       "Name: movement, dtype: int64"
      ]
     },
     "execution_count": 23,
     "metadata": {},
     "output_type": "execute_result"
    }
   ],
   "source": [
    "transaction_movement_value = transaction['movement'].value_counts()\n",
    "transaction_movement_value"
   ]
  },
  {
   "cell_type": "markdown",
   "id": "68883d9d",
   "metadata": {},
   "source": [
    "Plot the pie chart for the `movement` value"
   ]
  },
  {
   "cell_type": "code",
   "execution_count": 24,
   "id": "d77d51f5",
   "metadata": {},
   "outputs": [
    {
     "data": {
      "text/plain": [
       "Text(0.5, 1.0, 'Transaction Movement')"
      ]
     },
     "execution_count": 24,
     "metadata": {},
     "output_type": "execute_result"
    },
    {
     "data": {
      "image/png": "[encoded data removed]",
      "text/plain": [
       "<Figure size 720x720 with 1 Axes>"
      ]
     },
     "metadata": {},
     "output_type": "display_data"
    }
   ],
   "source": [
    "labels = ['debit', 'credit']\n",
    "explode = (0,0.1)\n",
    "plt.figure(figsize = (10, 10))\n",
    "plt.pie(transaction_movement_value, labels = labels, explode = explode, autopct  = '%1.0f%%', shadow = True)\n",
    "plt.title('Transaction Movement')"
   ]
  },
  {
   "cell_type": "markdown",
   "id": "108703a1",
   "metadata": {},
   "source": [
    "## Looking for the outlier"
   ]
  },
  {
   "cell_type": "markdown",
   "id": "39caf299",
   "metadata": {},
   "source": [
    "Histogram for the transaction `amount` to check for the outlier"
   ]
  },
  {
   "cell_type": "code",
   "execution_count": 25,
   "id": "cd0e14fb",
   "metadata": {},
   "outputs": [
    {
     "data": {
      "text/plain": [
       "Text(0.5, 0, 'Amount of Transaction')"
      ]
     },
     "execution_count": 25,
     "metadata": {},
     "output_type": "execute_result"
    },
    {
     "data": {
      "image/png": "[encoded data removed]",
      "text/plain": [
       "<Figure size 720x720 with 1 Axes>"
      ]
     },
     "metadata": {
      "needs_background": "light"
     },
     "output_type": "display_data"
    }
   ],
   "source": [
    "plt.figure(figsize = (10,10))\n",
    "binsize = 20\n",
    "bins = np.arange(-200, transaction['amount'].max(), binsize)\n",
    "plt.hist(transaction['amount'], bins = bins)\n",
    "plt.xlabel('Amount of Transaction')"
   ]
  },
  {
   "cell_type": "code",
   "execution_count": 26,
   "id": "8c08fd9b",
   "metadata": {},
   "outputs": [
    {
     "name": "stdout",
     "output_type": "stream",
     "text": [
      "card_present_flag       0.000\n",
      "balance              9307.360\n",
      "age                    16.000\n",
      "amount                 37.655\n",
      "dtype: float64\n"
     ]
    }
   ],
   "source": [
    "# Identify the first quantile and third quantile\n",
    "\n",
    "Q1 = transaction.quantile(0.25)\n",
    "Q3 = transaction.quantile(0.75)\n",
    "\n",
    "IQR = Q3-Q1\n",
    "print(IQR)"
   ]
  },
  {
   "cell_type": "code",
   "execution_count": 27,
   "id": "3a333e06",
   "metadata": {},
   "outputs": [
    {
     "name": "stdout",
     "output_type": "stream",
     "text": [
      "Old Shape:  (12043, 19)\n",
      "New Shape:  (9054, 19)\n"
     ]
    }
   ],
   "source": [
    "# Getting rid of outliers\n",
    "print('Old Shape: ', transaction.shape)\n",
    "\n",
    "transaction = transaction[~((transaction > (Q3 + 1.5 * IQR))).any(axis = 1)]\n",
    "print('New Shape: ', transaction.shape)"
   ]
  },
  {
   "cell_type": "code",
   "execution_count": 28,
   "id": "3f667b7c",
   "metadata": {
    "scrolled": true
   },
   "outputs": [
    {
     "data": {
      "text/plain": [
       "<AxesSubplot:>"
      ]
     },
     "execution_count": 28,
     "metadata": {},
     "output_type": "execute_result"
    },
    {
     "data": {
      "image/png": "[encoded data removed]",
      "text/plain": [
       "<Figure size 1440x1440 with 1 Axes>"
      ]
     },
     "metadata": {
      "needs_background": "light"
     },
     "output_type": "display_data"
    }
   ],
   "source": [
    "plt.figure(figsize = (20, 20))\n",
    "transaction.boxplot('amount')"
   ]
  },
  {
   "cell_type": "code",
   "execution_count": 29,
   "id": "9654c368",
   "metadata": {},
   "outputs": [
    {
     "data": {
      "text/plain": [
       "Text(0.5, 0, 'Amount of Transaction')"
      ]
     },
     "execution_count": 29,
     "metadata": {},
     "output_type": "execute_result"
    },
    {
     "data": {
      "image/png": "[encoded data removed]",
      "text/plain": [
       "<Figure size 432x288 with 1 Axes>"
      ]
     },
     "metadata": {
      "needs_background": "light"
     },
     "output_type": "display_data"
    }
   ],
   "source": [
    "# Histogram after removing the outliers\n",
    "plt.hist(x = 'amount', bins = 100, data = transaction)\n",
    "plt.xlabel('Amount of Transaction')"
   ]
  },
  {
   "cell_type": "markdown",
   "id": "eca08bdd",
   "metadata": {},
   "source": [
    "## Correlation"
   ]
  },
  {
   "cell_type": "code",
   "execution_count": 30,
   "id": "b8f9eb4d",
   "metadata": {},
   "outputs": [
    {
     "data": {
      "text/html": [
       "<div>\n",
       "<style scoped>\n",
       "    .dataframe tbody tr th:only-of-type {\n",
       "        vertical-align: middle;\n",
       "    }\n",
       "\n",
       "    .dataframe tbody tr th {\n",
       "        vertical-align: top;\n",
       "    }\n",
       "\n",
       "    .dataframe thead th {\n",
       "        text-align: right;\n",
       "    }\n",
       "</style>\n",
       "<table border=\"1\" class=\"dataframe\">\n",
       "  <thead>\n",
       "    <tr style=\"text-align: right;\">\n",
       "      <th></th>\n",
       "      <th>card_present_flag</th>\n",
       "      <th>balance</th>\n",
       "      <th>age</th>\n",
       "      <th>amount</th>\n",
       "    </tr>\n",
       "  </thead>\n",
       "  <tbody>\n",
       "    <tr>\n",
       "      <th>card_present_flag</th>\n",
       "      <td>1.000000</td>\n",
       "      <td>0.031532</td>\n",
       "      <td>-0.007576</td>\n",
       "      <td>0.096402</td>\n",
       "    </tr>\n",
       "    <tr>\n",
       "      <th>balance</th>\n",
       "      <td>0.031532</td>\n",
       "      <td>1.000000</td>\n",
       "      <td>0.121949</td>\n",
       "      <td>0.119566</td>\n",
       "    </tr>\n",
       "    <tr>\n",
       "      <th>age</th>\n",
       "      <td>-0.007576</td>\n",
       "      <td>0.121949</td>\n",
       "      <td>1.000000</td>\n",
       "      <td>0.056570</td>\n",
       "    </tr>\n",
       "    <tr>\n",
       "      <th>amount</th>\n",
       "      <td>0.096402</td>\n",
       "      <td>0.119566</td>\n",
       "      <td>0.056570</td>\n",
       "      <td>1.000000</td>\n",
       "    </tr>\n",
       "  </tbody>\n",
       "</table>\n",
       "</div>"
      ],
      "text/plain": [
       "                   card_present_flag   balance       age    amount\n",
       "card_present_flag           1.000000  0.031532 -0.007576  0.096402\n",
       "balance                     0.031532  1.000000  0.121949  0.119566\n",
       "age                        -0.007576  0.121949  1.000000  0.056570\n",
       "amount                      0.096402  0.119566  0.056570  1.000000"
      ]
     },
     "execution_count": 30,
     "metadata": {},
     "output_type": "execute_result"
    },
    {
     "data": {
      "image/png": "[encoded data removed]",
      "text/plain": [
       "<Figure size 720x720 with 2 Axes>"
      ]
     },
     "metadata": {
      "needs_background": "light"
     },
     "output_type": "display_data"
    }
   ],
   "source": [
    "# Correlation Heat Maps\n",
    "\n",
    "plt.figure(figsize = (10,10))\n",
    "c = transaction.corr()\n",
    "sns.heatmap(c, cmap = 'BrBG', annot = True)\n",
    "c"
   ]
  },
  {
   "cell_type": "code",
   "execution_count": 31,
   "id": "793fb41f",
   "metadata": {},
   "outputs": [
    {
     "data": {
      "text/plain": [
       "status                object\n",
       "card_present_flag    float64\n",
       "account               object\n",
       "currency              object\n",
       "long_lat              object\n",
       "txn_description       object\n",
       "first_name            object\n",
       "balance              float64\n",
       "gender                object\n",
       "age                    int64\n",
       "merchant_suburb       object\n",
       "merchant_state        object\n",
       "extraction            object\n",
       "amount               float64\n",
       "transaction_id        object\n",
       "country               object\n",
       "customer_id           object\n",
       "merchant_long_lat     object\n",
       "movement              object\n",
       "dtype: object"
      ]
     },
     "execution_count": 31,
     "metadata": {},
     "output_type": "execute_result"
    }
   ],
   "source": [
    "transaction.dtypes"
   ]
  },
  {
   "cell_type": "code",
   "execution_count": 34,
   "id": "02f2130a",
   "metadata": {},
   "outputs": [],
   "source": [
    "# Reset index for geting the month and the year\n",
    "\n",
    "transaction.reset_index(inplace = True)"
   ]
  },
  {
   "cell_type": "code",
   "execution_count": 35,
   "id": "0ea29ede",
   "metadata": {},
   "outputs": [],
   "source": [
    "# Get the month of the date to analyse the monthly transaction\n",
    "\n",
    "transaction['month'] = transaction['date'].dt.strftime('%b')"
   ]
  },
  {
   "cell_type": "code",
   "execution_count": 36,
   "id": "81e46aae",
   "metadata": {},
   "outputs": [],
   "source": [
    "# Get the year of the date to analyse the yearly transaction\n",
    "\n",
    "transaction['year'] = transaction['date'].dt.year"
   ]
  },
  {
   "cell_type": "code",
   "execution_count": 37,
   "id": "9352934b",
   "metadata": {},
   "outputs": [
    {
     "data": {
      "text/plain": [
       "Text(0.5, 1.0, 'Transaction Amount Made Each Month on Average')"
      ]
     },
     "execution_count": 37,
     "metadata": {},
     "output_type": "execute_result"
    },
    {
     "data": {
      "image/png": "[encoded data removed]",
      "text/plain": [
       "<Figure size 720x720 with 1 Axes>"
      ]
     },
     "metadata": {
      "needs_background": "light"
     },
     "output_type": "display_data"
    }
   ],
   "source": [
    "#Transaction Amount Made Each Month on Average\n",
    "\n",
    "plt.figure(figsize = (10, 10))\n",
    "transaction.groupby('month')['amount'].mean().plot.bar()\n",
    "plt.xlabel('Month')\n",
    "plt.ylabel('Transaction Amount in Total')\n",
    "plt.title('Transaction Amount Made Each Month on Average')"
   ]
  },
  {
   "cell_type": "markdown",
   "id": "1bfbca3d",
   "metadata": {},
   "source": [
    "From the insight, September has biggest amount of spent by average"
   ]
  },
  {
   "cell_type": "code",
   "execution_count": 38,
   "id": "24e460be",
   "metadata": {},
   "outputs": [
    {
     "data": {
      "text/plain": [
       "Text(0.5, 1.0, 'Average Amount Spent by Gender')"
      ]
     },
     "execution_count": 38,
     "metadata": {},
     "output_type": "execute_result"
    },
    {
     "data": {
      "image/png": "[encoded data removed]",
      "text/plain": [
       "<Figure size 720x720 with 1 Axes>"
      ]
     },
     "metadata": {
      "needs_background": "light"
     },
     "output_type": "display_data"
    }
   ],
   "source": [
    "# Transaction average amount made by gender\n",
    "\n",
    "transaction_gender_avg = transaction.groupby('gender')['amount'].mean()\n",
    "transaction_gender_avg.plot(kind = 'bar', figsize = (10, 10))\n",
    "plt.xlabel('Gender')\n",
    "plt.ylabel('Average Amount Spent')\n",
    "plt.title('Average Amount Spent by Gender')"
   ]
  },
  {
   "cell_type": "markdown",
   "id": "f233b846",
   "metadata": {},
   "source": [
    "From the insight, average transaction is done by the male customer"
   ]
  },
  {
   "cell_type": "code",
   "execution_count": null,
   "id": "cb5a754a",
   "metadata": {},
   "outputs": [],
   "source": []
  },
  {
   "cell_type": "code",
   "execution_count": 40,
   "id": "7159fb89",
   "metadata": {},
   "outputs": [
    {
     "data": {
      "text/plain": [
       "Text(0.5, 1.0, 'Card Present Flagged')"
      ]
     },
     "execution_count": 40,
     "metadata": {},
     "output_type": "execute_result"
    },
    {
     "data": {
      "image/png": "[encoded data removed]",
      "text/plain": [
       "<Figure size 720x720 with 1 Axes>"
      ]
     },
     "metadata": {},
     "output_type": "display_data"
    }
   ],
   "source": [
    "# 87.4% transaction card are unflagged\n",
    "\n",
    "transaction_card_present_flag = transaction['card_present_flag'].value_counts()\n",
    "transaction_card_present_flag\n",
    "plt.figure(figsize = (10,10))\n",
    "labels = ['unflagged', 'flagged']\n",
    "explode = (0, 0.1)\n",
    "plt.pie(transaction_card_present_flag, explode = explode, labels = labels, autopct = '%1.1f%%', shadow = True, startangle = 90)\n",
    "plt.title('Card Present Flagged')"
   ]
  },
  {
   "cell_type": "markdown",
   "id": "00e0e540",
   "metadata": {},
   "source": [
    "Create a column called `day_week` to get the day of the week"
   ]
  },
  {
   "cell_type": "code",
   "execution_count": 41,
   "id": "e10930e9",
   "metadata": {},
   "outputs": [
    {
     "name": "stdout",
     "output_type": "stream",
     "text": [
      "Unique Values ['Wednesday' 'Thursday' 'Friday' 'Saturday' 'Sunday' 'Monday' 'Tuesday']\n",
      "Number of unique values  7\n"
     ]
    }
   ],
   "source": [
    "cats = [ 'Monday', 'Tuesday', 'Wednesday', 'Thursday', 'Friday', 'Saturday', 'Sunday']\n",
    "\n",
    "transaction['day_week'] = transaction['date'].dt.day_name()\n",
    "print('Unique Values', transaction['day_week'].unique())\n",
    "print('Number of unique values ',len(transaction['day_week'].unique()))"
   ]
  },
  {
   "cell_type": "markdown",
   "id": "199a25c7",
   "metadata": {},
   "source": [
    "Get the transaction sepnding over the course of an average day or week"
   ]
  },
  {
   "cell_type": "code",
   "execution_count": 42,
   "id": "d88c4fca",
   "metadata": {},
   "outputs": [
    {
     "data": {
      "text/plain": [
       "day_week   txn_description\n",
       "Friday     INTER BANK         49.322034\n",
       "           PAYMENT            41.810976\n",
       "           PHONE BANK         82.000000\n",
       "           POS                23.593113\n",
       "           SALES-POS          25.050611\n",
       "Monday     INTER BANK         44.402985\n",
       "           PAYMENT            50.528090\n",
       "           POS                23.574909\n",
       "           SALES-POS          23.972235\n",
       "Saturday   INTER BANK         47.617021\n",
       "           PAYMENT            39.417647\n",
       "           PHONE BANK         21.000000\n",
       "           POS                24.261396\n",
       "           SALES-POS          24.442234\n",
       "Sunday     INTER BANK         38.660714\n",
       "           PAYMENT            42.092391\n",
       "           PHONE BANK         82.000000\n",
       "           POS                23.416787\n",
       "           SALES-POS          24.501820\n",
       "Thursday   INTER BANK         35.931034\n",
       "           PAYMENT            40.032934\n",
       "           PHONE BANK         58.000000\n",
       "           POS                23.697480\n",
       "           SALES-POS          24.649955\n",
       "Tuesday    INTER BANK         32.855263\n",
       "           PAYMENT            40.362140\n",
       "           PHONE BANK         43.000000\n",
       "           POS                23.639251\n",
       "           SALES-POS          23.226921\n",
       "Wednesday  INTER BANK         38.833333\n",
       "           PAYMENT            41.327731\n",
       "           PHONE BANK         68.071429\n",
       "           POS                23.760926\n",
       "           SALES-POS          24.255663\n",
       "Name: amount, dtype: float64"
      ]
     },
     "execution_count": 42,
     "metadata": {},
     "output_type": "execute_result"
    }
   ],
   "source": [
    "transaction_average_by_weekday = transaction.groupby(['day_week', 'txn_description']).amount.mean()\n",
    "transaction_average_by_weekday"
   ]
  },
  {
   "cell_type": "markdown",
   "id": "109aa04c",
   "metadata": {},
   "source": [
    "Visualise the transaction sepnding over the course of an average day or week by plotting"
   ]
  },
  {
   "cell_type": "code",
   "execution_count": 43,
   "id": "52ad98d8",
   "metadata": {},
   "outputs": [
    {
     "data": {
      "text/plain": [
       "Text(0.5, 1.0, 'Average Transaction Each Week Day')"
      ]
     },
     "execution_count": 43,
     "metadata": {},
     "output_type": "execute_result"
    },
    {
     "data": {
      "text/plain": [
       "<Figure size 720x720 with 0 Axes>"
      ]
     },
     "metadata": {},
     "output_type": "display_data"
    },
    {
     "data": {
      "image/png": "[encoded data removed]",
      "text/plain": [
       "<Figure size 720x720 with 1 Axes>"
      ]
     },
     "metadata": {
      "needs_background": "light"
     },
     "output_type": "display_data"
    }
   ],
   "source": [
    "plt.figure(figsize = (10,10))\n",
    "transaction_average_by_weekday.unstack(1).plot(kind = 'bar', figsize = (10,10))\n",
    "plt.xlabel('Week Days')\n",
    "plt.ylabel('Amounts')\n",
    "plt.title('Average Transaction Each Week Day')"
   ]
  },
  {
   "cell_type": "markdown",
   "id": "6edaf98f",
   "metadata": {},
   "source": [
    "Create a column called `week_number` to get the number of week"
   ]
  },
  {
   "cell_type": "code",
   "execution_count": 44,
   "id": "5618f182",
   "metadata": {},
   "outputs": [
    {
     "data": {
      "text/plain": [
       "dtype('O')"
      ]
     },
     "execution_count": 44,
     "metadata": {},
     "output_type": "execute_result"
    }
   ],
   "source": [
    "transaction['day_week'].dtype"
   ]
  },
  {
   "cell_type": "code",
   "execution_count": 45,
   "id": "4a0dd0ff",
   "metadata": {},
   "outputs": [],
   "source": [
    "transaction['week_number']=transaction['date'].dt.week"
   ]
  },
  {
   "cell_type": "markdown",
   "id": "beff3f27",
   "metadata": {},
   "source": [
    "Check how many unique values are there for `week_number`"
   ]
  },
  {
   "cell_type": "code",
   "execution_count": 46,
   "id": "1497a5cf",
   "metadata": {},
   "outputs": [
    {
     "data": {
      "text/plain": [
       "14"
      ]
     },
     "execution_count": 46,
     "metadata": {},
     "output_type": "execute_result"
    }
   ],
   "source": [
    "len(transaction['week_number'].unique())"
   ]
  },
  {
   "cell_type": "markdown",
   "id": "fce5b12f",
   "metadata": {},
   "source": [
    "Set the `date` of the transaction as an index"
   ]
  },
  {
   "cell_type": "code",
   "execution_count": 47,
   "id": "75ee9414",
   "metadata": {},
   "outputs": [],
   "source": [
    "transaction.set_index('date', inplace = True)"
   ]
  },
  {
   "cell_type": "markdown",
   "id": "46108d39",
   "metadata": {},
   "source": [
    "Then, sort the index"
   ]
  },
  {
   "cell_type": "code",
   "execution_count": 48,
   "id": "96543a75",
   "metadata": {},
   "outputs": [],
   "source": [
    "transaction_srt = transaction.sort_index()"
   ]
  },
  {
   "cell_type": "markdown",
   "id": "ba9d2eeb",
   "metadata": {},
   "source": [
    "Get the mean of the transaction amount of each day"
   ]
  },
  {
   "cell_type": "code",
   "execution_count": 49,
   "id": "1ebdc976",
   "metadata": {},
   "outputs": [
    {
     "data": {
      "text/plain": [
       "date\n",
       "2018-08-01    28.345238\n",
       "2018-08-02    31.569074\n",
       "2018-08-03    27.209027\n",
       "2018-08-04    25.421900\n",
       "2018-08-05    30.248889\n",
       "                ...    \n",
       "2018-10-27    26.188684\n",
       "2018-10-28    30.060684\n",
       "2018-10-29    27.483816\n",
       "2018-10-30    25.615156\n",
       "2018-10-31    28.770631\n",
       "Name: amount, Length: 91, dtype: float64"
      ]
     },
     "execution_count": 49,
     "metadata": {},
     "output_type": "execute_result"
    }
   ],
   "source": [
    "transaction_avg_day = transaction_srt.groupby('date').amount.mean()\n",
    "transaction_avg_day"
   ]
  },
  {
   "cell_type": "markdown",
   "id": "84564106",
   "metadata": {},
   "source": [
    "Visual the mean of the transaction amount of each day by plotting the time series"
   ]
  },
  {
   "cell_type": "code",
   "execution_count": 50,
   "id": "a9f40286",
   "metadata": {},
   "outputs": [
    {
     "data": {
      "image/png": "[encoded data removed]",
      "text/plain": [
       "<Figure size 720x720 with 1 Axes>"
      ]
     },
     "metadata": {
      "needs_background": "light"
     },
     "output_type": "display_data"
    }
   ],
   "source": [
    "# Time Plot for Average Amount of Transaction per Day\n",
    "\n",
    "plt.figure(figsize = (10, 10))\n",
    "transaction_avg_day.plot()\n",
    "plt.xlabel('Date')\n",
    "plt.ylabel('Average Amount')\n",
    "plt.title('Average Amount of Transaction per Day')\n",
    "plt.show()"
   ]
  },
  {
   "cell_type": "code",
   "execution_count": 52,
   "id": "064d4027",
   "metadata": {},
   "outputs": [
    {
     "data": {
      "text/plain": [
       "Text(0.5, 1.0, 'Transaction Decription')"
      ]
     },
     "execution_count": 52,
     "metadata": {},
     "output_type": "execute_result"
    },
    {
     "data": {
      "image/png": "[encoded data removed]",
      "text/plain": [
       "<Figure size 720x720 with 1 Axes>"
      ]
     },
     "metadata": {},
     "output_type": "display_data"
    }
   ],
   "source": [
    "txn_description_value = transaction['txn_description'].value_counts()\n",
    "labels = ['Sales-Pos', 'Pos', 'Payment', 'Internet Banking', 'Phone Banking']\n",
    "plt.figure(figsize = (10, 10))\n",
    "plt.pie(txn_description_value, labels = labels, autopct = '%1.1f%%', shadow = True)\n",
    "plt.title('Transaction Decription')"
   ]
  },
  {
   "cell_type": "code",
   "execution_count": 53,
   "id": "181c92b0",
   "metadata": {},
   "outputs": [
    {
     "data": {
      "text/plain": [
       "Text(0.5, 1.0, 'Transaction Amount Made Each Month on Average')"
      ]
     },
     "execution_count": 53,
     "metadata": {},
     "output_type": "execute_result"
    },
    {
     "data": {
      "image/png": "[encoded data removed]",
      "text/plain": [
       "<Figure size 720x720 with 1 Axes>"
      ]
     },
     "metadata": {
      "needs_background": "light"
     },
     "output_type": "display_data"
    }
   ],
   "source": [
    "#Transaction Amount Made Each Month on Average group by method\n",
    "\n",
    "\n",
    "transaction_month_movement = transaction.groupby(['month', 'movement'])['amount'].mean()\n",
    "transaction_month_movement.unstack(1).plot.bar(figsize = (10,10))\n",
    "plt.xlabel('Month')\n",
    "plt.ylabel('Transaction Amount in Total')\n",
    "plt.title('Transaction Amount Made Each Month on Average')\n",
    "\n",
    "# Analysis = September has the biggest transaction amount by average"
   ]
  },
  {
   "cell_type": "markdown",
   "id": "a25f52b0",
   "metadata": {},
   "source": [
    "Get the average monthly transaction group by transaction description"
   ]
  },
  {
   "cell_type": "code",
   "execution_count": 54,
   "id": "15a0c7ae",
   "metadata": {},
   "outputs": [
    {
     "data": {
      "text/plain": [
       "month  txn_description\n",
       "Aug    INTER BANK         40.676829\n",
       "       PAYMENT            41.511036\n",
       "       PHONE BANK         51.062500\n",
       "       POS                23.107435\n",
       "       SALES-POS          23.520380\n",
       "Oct    INTER BANK         39.520000\n",
       "       PAYMENT            42.141215\n",
       "       PHONE BANK         49.894737\n",
       "       POS                23.666280\n",
       "       SALES-POS          24.279056\n",
       "Sep    INTER BANK         41.076923\n",
       "       PAYMENT            41.901007\n",
       "       PHONE BANK         47.722222\n",
       "       POS                24.356389\n",
       "       SALES-POS          25.377940\n",
       "Name: amount, dtype: float64"
      ]
     },
     "execution_count": 54,
     "metadata": {},
     "output_type": "execute_result"
    }
   ],
   "source": [
    "transaction_txn = transaction.groupby(['month','txn_description']).amount.mean()\n",
    "transaction_txn"
   ]
  },
  {
   "cell_type": "markdown",
   "id": "ad97c9e0",
   "metadata": {},
   "source": [
    "Visualise the average monthly transaction group by transaction description"
   ]
  },
  {
   "cell_type": "code",
   "execution_count": 55,
   "id": "b18e6885",
   "metadata": {},
   "outputs": [
    {
     "data": {
      "text/plain": [
       "Text(0.5, 1.0, 'Transaction Volume and Spending Over the Course of an Average Week (3 Months)')"
      ]
     },
     "execution_count": 55,
     "metadata": {},
     "output_type": "execute_result"
    },
    {
     "data": {
      "image/png": "[encoded data removed]",
      "text/plain": [
       "<Figure size 720x720 with 1 Axes>"
      ]
     },
     "metadata": {
      "needs_background": "light"
     },
     "output_type": "display_data"
    }
   ],
   "source": [
    "transaction_txn.unstack(1).plot.bar(figsize = (10,10))\n",
    "plt.rcParams.update({\"font.size\":15})\n",
    "plt.xlabel('Monthly', fontsize = 20)\n",
    "plt.ylabel('Amount Average')\n",
    "plt.title('Transaction Volume and Spending Over the Course of an Average Week (3 Months)')"
   ]
  },
  {
   "cell_type": "code",
   "execution_count": 58,
   "id": "d9375feb",
   "metadata": {},
   "outputs": [
    {
     "data": {
      "text/plain": [
       "week_number  txn_description\n",
       "31           INTER BANK         43.846154\n",
       "             PAYMENT            39.233333\n",
       "             PHONE BANK         70.000000\n",
       "             POS                25.678777\n",
       "             SALES-POS          23.655365\n",
       "                                  ...    \n",
       "44           INTER BANK         31.473684\n",
       "             PAYMENT            38.750000\n",
       "             PHONE BANK         55.000000\n",
       "             POS                22.459213\n",
       "             SALES-POS          24.716966\n",
       "Name: amount, Length: 70, dtype: float64"
      ]
     },
     "execution_count": 58,
     "metadata": {},
     "output_type": "execute_result"
    }
   ],
   "source": [
    "transaction_amount_weekly_txn = transaction.groupby(['week_number', 'txn_description']).amount.mean()\n",
    "transaction_amount_weekly_txn"
   ]
  },
  {
   "cell_type": "code",
   "execution_count": 59,
   "id": "35382b59",
   "metadata": {},
   "outputs": [
    {
     "data": {
      "text/plain": [
       "Text(0.5, 1.0, 'Transaction Volume and Spending Over the Course of an Average Week (3 Months)')"
      ]
     },
     "execution_count": 59,
     "metadata": {},
     "output_type": "execute_result"
    },
    {
     "data": {
      "image/png": "[encoded data removed]",
      "text/plain": [
       "<Figure size 720x720 with 1 Axes>"
      ]
     },
     "metadata": {
      "needs_background": "light"
     },
     "output_type": "display_data"
    }
   ],
   "source": [
    "#Transaction Volume and Spending Over the Course of an Average Week (3 Months)\n",
    "\n",
    "\n",
    "transaction_amount_weekly_txn.unstack(1).plot.bar(figsize = (10,10))\n",
    "plt.rcParams.update({\"font.size\":15})\n",
    "plt.xlabel('Weekly', fontsize = 20)\n",
    "plt.ylabel('Amount Average')\n",
    "plt.title('Transaction Volume and Spending Over the Course of an Average Week (3 Months)')"
   ]
  },
  {
   "cell_type": "code",
   "execution_count": null,
   "id": "ad869233",
   "metadata": {},
   "outputs": [],
   "source": [
    "transaction_weekly_average = transaction_week_"
   ]
  }
 ],
 "metadata": {
  "kernelspec": {
   "display_name": "Python 3",
   "language": "python",
   "name": "python3"
  },
  "language_info": {
   "codemirror_mode": {
    "name": "ipython",
    "version": 3
   },
   "file_extension": ".py",
   "mimetype": "text/x-python",
   "name": "python",
   "nbconvert_exporter": "python",
   "pygments_lexer": "ipython3",
   "version": "3.8.8"
  }
 },
 "nbformat": 4,
 "nbformat_minor": 5
}
